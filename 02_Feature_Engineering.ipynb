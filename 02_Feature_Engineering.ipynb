{
 "cells": [
  {
   "cell_type": "markdown",
   "metadata": {},
   "source": [
    "# Price Etsymator: Exploratory Data Analysis\n",
    "\n",
    "In this exploration we've made some interesting observations about our dataset, did some cleanup, and have a good sense of the next steps for our exploration. To do this we took the following steps:\n",
    "\n",
    "* Got rid of the 'category' and 'dispatched_from' columns\n",
    "* Edited our columns so they're the correct data types \n",
    "* Dropped NaN records for price\n",
    "* Ensured we got rid of records that weren't meeting certain value parameters (i.e. negative delivery time)\n",
    "* Explored our 'Star_Rating' column to confirm the NaNs were warranted\n",
    "* Explored the features of top sellers\n",
    "* Graphed relationships between variables\n",
    "* Created a correlation heatmap to see the relationship between price and our numeric variables\n",
    "\n",
    "In the `02_Feature_Engineering` notebook, we'll work through the following steps:\n",
    "\n",
    "* Do a bit more data-cleaning, including eliminating the 1* rated listings that are throwing off our info\n",
    "* Get a sense of the trends we've seen here on a shop-level rather than a listing-level. \n",
    "* Create a 'total revenue' feature for each shop (take the price * the number of sales) \n",
    "    * We'll explore this new feature by looking at how the mean numeric features vary between the highest revenue earners and the average revenue earners.\n",
    "* Create a 'total price' column which is a combination of price and cost_delivery - we'll get a sense of whether there are any trends here, though ultimately may not make sure of it.\n",
    "* Create new features from our object data (title and description) - we'll determine the right keywords to mine for and create those columns \n",
    "* Create two dataframes to account for the different ways we can approach the star_rating NaNs - in one we'll impute the NaNs with zeroes, and in the other we'll drop the records that are NaNs."
   ]
  },
  {
   "cell_type": "code",
   "execution_count": 1,
   "metadata": {},
   "outputs": [],
   "source": [
    "#import all packages \n",
    "\n",
    "import pandas as pd \n",
    "import numpy as np \n",
    "import matplotlib.pyplot as plt\n",
    "import seaborn as sns \n",
    "import missingno as msno\n",
    "import re\n",
    "from matplotlib.pyplot import figure"
   ]
  },
  {
   "cell_type": "code",
   "execution_count": 2,
   "metadata": {},
   "outputs": [
    {
     "data": {
      "text/html": [
       "<div>\n",
       "<style scoped>\n",
       "    .dataframe tbody tr th:only-of-type {\n",
       "        vertical-align: middle;\n",
       "    }\n",
       "\n",
       "    .dataframe tbody tr th {\n",
       "        vertical-align: top;\n",
       "    }\n",
       "\n",
       "    .dataframe thead th {\n",
       "        text-align: right;\n",
       "    }\n",
       "</style>\n",
       "<table border=\"1\" class=\"dataframe\">\n",
       "  <thead>\n",
       "    <tr style=\"text-align: right;\">\n",
       "      <th></th>\n",
       "      <th>Title</th>\n",
       "      <th>Shop_Name</th>\n",
       "      <th>Is_Ad</th>\n",
       "      <th>Star_Rating</th>\n",
       "      <th>Num_Reviews</th>\n",
       "      <th>Price</th>\n",
       "      <th>Is_Bestseller</th>\n",
       "      <th>Num_Sales</th>\n",
       "      <th>Num_Basket</th>\n",
       "      <th>Description</th>\n",
       "      <th>Days_to_Arrival</th>\n",
       "      <th>Cost_Delivery</th>\n",
       "      <th>Returns_Accepted</th>\n",
       "      <th>Num_Images</th>\n",
       "    </tr>\n",
       "  </thead>\n",
       "  <tbody>\n",
       "    <tr>\n",
       "      <th>0</th>\n",
       "      <td>Happy birthday card, Bird birthday card, Natur...</td>\n",
       "      <td>279</td>\n",
       "      <td>1</td>\n",
       "      <td>5.0</td>\n",
       "      <td>2391</td>\n",
       "      <td>4.99</td>\n",
       "      <td>1.0</td>\n",
       "      <td>14319</td>\n",
       "      <td>20</td>\n",
       "      <td>Each piece at Chau Art is originally hand desi...</td>\n",
       "      <td>3.0</td>\n",
       "      <td>0.99</td>\n",
       "      <td>1</td>\n",
       "      <td>1</td>\n",
       "    </tr>\n",
       "    <tr>\n",
       "      <th>1</th>\n",
       "      <td>Carousel Happy Birthday Card, Handmade Laser C...</td>\n",
       "      <td>1689</td>\n",
       "      <td>1</td>\n",
       "      <td>5.0</td>\n",
       "      <td>1728</td>\n",
       "      <td>5.99</td>\n",
       "      <td>1.0</td>\n",
       "      <td>15066</td>\n",
       "      <td>0</td>\n",
       "      <td>POSTAGE: UK - From 5 Sept 2020 all orders will...</td>\n",
       "      <td>6.0</td>\n",
       "      <td>2.95</td>\n",
       "      <td>1</td>\n",
       "      <td>1</td>\n",
       "    </tr>\n",
       "    <tr>\n",
       "      <th>2</th>\n",
       "      <td>FLOWER BIRTHDAY CARD | Birthday Card for Her |...</td>\n",
       "      <td>348</td>\n",
       "      <td>1</td>\n",
       "      <td>5.0</td>\n",
       "      <td>97</td>\n",
       "      <td>2.30</td>\n",
       "      <td>1.0</td>\n",
       "      <td>1041</td>\n",
       "      <td>20</td>\n",
       "      <td>Flower birthday card featuring a pink orchid o...</td>\n",
       "      <td>6.0</td>\n",
       "      <td>1.00</td>\n",
       "      <td>0</td>\n",
       "      <td>3</td>\n",
       "    </tr>\n",
       "    <tr>\n",
       "      <th>3</th>\n",
       "      <td>Personalized Leather Card Holder, Black red bl...</td>\n",
       "      <td>991</td>\n",
       "      <td>1</td>\n",
       "      <td>4.5</td>\n",
       "      <td>1345</td>\n",
       "      <td>25.19</td>\n",
       "      <td>1.0</td>\n",
       "      <td>11375</td>\n",
       "      <td>20</td>\n",
       "      <td>▲ Croc embossed Genuine Leather Personalised C...</td>\n",
       "      <td>4.0</td>\n",
       "      <td>3.99</td>\n",
       "      <td>0</td>\n",
       "      <td>10</td>\n",
       "    </tr>\n",
       "    <tr>\n",
       "      <th>4</th>\n",
       "      <td>Among Us Birthday Card - It's Your Birthday, S...</td>\n",
       "      <td>1982</td>\n",
       "      <td>1</td>\n",
       "      <td>5.0</td>\n",
       "      <td>24</td>\n",
       "      <td>2.95</td>\n",
       "      <td>1.0</td>\n",
       "      <td>843</td>\n",
       "      <td>20</td>\n",
       "      <td>Among Us Birthday Card - Its Your Birthday, Se...</td>\n",
       "      <td>4.0</td>\n",
       "      <td>1.00</td>\n",
       "      <td>1</td>\n",
       "      <td>8</td>\n",
       "    </tr>\n",
       "  </tbody>\n",
       "</table>\n",
       "</div>"
      ],
      "text/plain": [
       "                                               Title  Shop_Name  Is_Ad  \\\n",
       "0  Happy birthday card, Bird birthday card, Natur...        279      1   \n",
       "1  Carousel Happy Birthday Card, Handmade Laser C...       1689      1   \n",
       "2  FLOWER BIRTHDAY CARD | Birthday Card for Her |...        348      1   \n",
       "3  Personalized Leather Card Holder, Black red bl...        991      1   \n",
       "4  Among Us Birthday Card - It's Your Birthday, S...       1982      1   \n",
       "\n",
       "   Star_Rating  Num_Reviews  Price  Is_Bestseller  Num_Sales  Num_Basket  \\\n",
       "0          5.0         2391   4.99            1.0      14319          20   \n",
       "1          5.0         1728   5.99            1.0      15066           0   \n",
       "2          5.0           97   2.30            1.0       1041          20   \n",
       "3          4.5         1345  25.19            1.0      11375          20   \n",
       "4          5.0           24   2.95            1.0        843          20   \n",
       "\n",
       "                                         Description  Days_to_Arrival  \\\n",
       "0  Each piece at Chau Art is originally hand desi...              3.0   \n",
       "1  POSTAGE: UK - From 5 Sept 2020 all orders will...              6.0   \n",
       "2  Flower birthday card featuring a pink orchid o...              6.0   \n",
       "3  ▲ Croc embossed Genuine Leather Personalised C...              4.0   \n",
       "4  Among Us Birthday Card - Its Your Birthday, Se...              4.0   \n",
       "\n",
       "   Cost_Delivery  Returns_Accepted  Num_Images  \n",
       "0           0.99                 1           1  \n",
       "1           2.95                 1           1  \n",
       "2           1.00                 0           3  \n",
       "3           3.99                 0          10  \n",
       "4           1.00                 1           8  "
      ]
     },
     "execution_count": 2,
     "metadata": {},
     "output_type": "execute_result"
    }
   ],
   "source": [
    "#read in our raw data and print out the head\n",
    "\n",
    "df = pd.read_csv('feature_engineering.csv', index_col=0)\n",
    "\n",
    "df.head()"
   ]
  },
  {
   "cell_type": "code",
   "execution_count": 3,
   "metadata": {},
   "outputs": [
    {
     "data": {
      "text/plain": [
       "5.0    11087\n",
       "4.5      215\n",
       "4.0       11\n",
       "3.5        3\n",
       "1.0        1\n",
       "Name: Star_Rating, dtype: int64"
      ]
     },
     "execution_count": 3,
     "metadata": {},
     "output_type": "execute_result"
    }
   ],
   "source": [
    "df['Star_Rating'].value_counts()"
   ]
  },
  {
   "cell_type": "code",
   "execution_count": 4,
   "metadata": {},
   "outputs": [],
   "source": [
    "df= df[df['Star_Rating'] > 3.5]"
   ]
  },
  {
   "cell_type": "code",
   "execution_count": 5,
   "metadata": {},
   "outputs": [
    {
     "data": {
      "text/plain": [
       "5.0    11087\n",
       "4.5      215\n",
       "4.0       11\n",
       "Name: Star_Rating, dtype: int64"
      ]
     },
     "execution_count": 5,
     "metadata": {},
     "output_type": "execute_result"
    }
   ],
   "source": [
    "df['Star_Rating'].value_counts()"
   ]
  },
  {
   "cell_type": "code",
   "execution_count": null,
   "metadata": {},
   "outputs": [],
   "source": []
  }
 ],
 "metadata": {
  "kernelspec": {
   "display_name": "Python 3",
   "language": "python",
   "name": "python3"
  },
  "language_info": {
   "codemirror_mode": {
    "name": "ipython",
    "version": 3
   },
   "file_extension": ".py",
   "mimetype": "text/x-python",
   "name": "python",
   "nbconvert_exporter": "python",
   "pygments_lexer": "ipython3",
   "version": "3.8.5"
  }
 },
 "nbformat": 4,
 "nbformat_minor": 4
}
