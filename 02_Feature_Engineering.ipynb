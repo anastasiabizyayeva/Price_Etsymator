{
 "cells": [
  {
   "cell_type": "markdown",
   "metadata": {},
   "source": [
    "# Price Etsymator: Exploratory Data Analysis\n",
    "\n",
    "In this exploration we've made some interesting observations about our dataset, did some cleanup, and have a good sense of the next steps for our exploration. To do this we took the following steps:\n",
    "\n",
    "* Got rid of the 'category' and 'dispatched_from' columns\n",
    "* Edited our columns so they're the correct data types \n",
    "* Dropped NaN records for price\n",
    "* Ensured we got rid of records that weren't meeting certain value parameters (i.e. negative delivery time)\n",
    "* Explored our 'Star_Rating' column to confirm the NaNs were warranted\n",
    "* Explored the features of top sellers\n",
    "* Graphed relationships between variables\n",
    "* Created a correlation heatmap to see the relationship between price and our numeric variables\n",
    "\n",
    "In the `02_Feature_Engineering` notebook, we'll work through the following steps:\n",
    "\n",
    "* Do a bit more data-cleaning, including eliminating the 1* rated listings that are throwing off our info\n",
    "* Get a sense of the trends we've seen here on a shop-level rather than a listing-level. \n",
    "* Create a 'total revenue' feature for each shop (take the price * the number of sales) \n",
    "    * We'll explore this new feature by looking at how the mean numeric features vary between the highest revenue earners and the average revenue earners.\n",
    "* Create a 'total price' column which is a combination of price and cost_delivery - we'll get a sense of whether there are any trends here, though ultimately may not make sure of it.\n",
    "* Create new features from our object data (title and description) - we'll determine the right keywords to mine for and create those columns \n",
    "* Create two dataframes to account for the different ways we can approach the star_rating NaNs - in one we'll impute the NaNs with zeroes, and in the other we'll drop the records that are NaNs."
   ]
  },
  {
   "cell_type": "code",
   "execution_count": null,
   "metadata": {},
   "outputs": [],
   "source": []
  }
 ],
 "metadata": {
  "kernelspec": {
   "display_name": "Python 3",
   "language": "python",
   "name": "python3"
  },
  "language_info": {
   "codemirror_mode": {
    "name": "ipython",
    "version": 3
   },
   "file_extension": ".py",
   "mimetype": "text/x-python",
   "name": "python",
   "nbconvert_exporter": "python",
   "pygments_lexer": "ipython3",
   "version": "3.8.5"
  }
 },
 "nbformat": 4,
 "nbformat_minor": 4
}
