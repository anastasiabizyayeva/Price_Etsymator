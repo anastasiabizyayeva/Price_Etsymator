{
 "cells": [
  {
   "cell_type": "code",
   "execution_count": 159,
   "metadata": {},
   "outputs": [],
   "source": [
    "import pandas as pd \n",
    "import numpy as np \n",
    "import matplotlib.pyplot as plt\n",
    "import seaborn as sns \n",
    "import missingno as msno\n",
    "import re\n",
    "from matplotlib.pyplot import figure"
   ]
  },
  {
   "cell_type": "code",
   "execution_count": 2,
   "metadata": {},
   "outputs": [
    {
     "data": {
      "text/html": [
       "<div>\n",
       "<style scoped>\n",
       "    .dataframe tbody tr th:only-of-type {\n",
       "        vertical-align: middle;\n",
       "    }\n",
       "\n",
       "    .dataframe tbody tr th {\n",
       "        vertical-align: top;\n",
       "    }\n",
       "\n",
       "    .dataframe thead th {\n",
       "        text-align: right;\n",
       "    }\n",
       "</style>\n",
       "<table border=\"1\" class=\"dataframe\">\n",
       "  <thead>\n",
       "    <tr style=\"text-align: right;\">\n",
       "      <th></th>\n",
       "      <th>Title</th>\n",
       "      <th>Shop_Name</th>\n",
       "      <th>Is_Ad</th>\n",
       "      <th>Star_Rating</th>\n",
       "      <th>Num_Reviews</th>\n",
       "      <th>Price</th>\n",
       "      <th>Is_Bestseller</th>\n",
       "      <th>Num_Sales</th>\n",
       "      <th>Num_Basket</th>\n",
       "      <th>Description</th>\n",
       "      <th>Days_to_Arrival</th>\n",
       "      <th>Cost_Delivery</th>\n",
       "      <th>Returns_Accepted</th>\n",
       "      <th>Dispatched_From</th>\n",
       "      <th>Num_Images</th>\n",
       "      <th>Category</th>\n",
       "    </tr>\n",
       "  </thead>\n",
       "  <tbody>\n",
       "    <tr>\n",
       "      <th>0</th>\n",
       "      <td>Happy birthday card, Bird birthday card, Natur...</td>\n",
       "      <td>279</td>\n",
       "      <td>1</td>\n",
       "      <td>5</td>\n",
       "      <td>2,391</td>\n",
       "      <td>4.99</td>\n",
       "      <td>1.0</td>\n",
       "      <td>14,319</td>\n",
       "      <td>20</td>\n",
       "      <td>Each piece at Chau Art is originally hand desi...</td>\n",
       "      <td>3.0</td>\n",
       "      <td>0.99</td>\n",
       "      <td>1</td>\n",
       "      <td>United Kingdom</td>\n",
       "      <td>1</td>\n",
       "      <td>birthday card</td>\n",
       "    </tr>\n",
       "    <tr>\n",
       "      <th>1</th>\n",
       "      <td>Carousel Happy Birthday Card, Handmade Laser C...</td>\n",
       "      <td>1689</td>\n",
       "      <td>1</td>\n",
       "      <td>5</td>\n",
       "      <td>1,728</td>\n",
       "      <td>5.99</td>\n",
       "      <td>1.0</td>\n",
       "      <td>15,066</td>\n",
       "      <td>0</td>\n",
       "      <td>POSTAGE: UK - From 5 Sept 2020 all orders will...</td>\n",
       "      <td>6.0</td>\n",
       "      <td>2.95</td>\n",
       "      <td>1</td>\n",
       "      <td>United Kingdom</td>\n",
       "      <td>1</td>\n",
       "      <td>birthday card</td>\n",
       "    </tr>\n",
       "    <tr>\n",
       "      <th>2</th>\n",
       "      <td>FLOWER BIRTHDAY CARD | Birthday Card for Her |...</td>\n",
       "      <td>348</td>\n",
       "      <td>1</td>\n",
       "      <td>5</td>\n",
       "      <td>97</td>\n",
       "      <td>2.30</td>\n",
       "      <td>1.0</td>\n",
       "      <td>1,041</td>\n",
       "      <td>20</td>\n",
       "      <td>Flower birthday card featuring a pink orchid o...</td>\n",
       "      <td>6.0</td>\n",
       "      <td>1.00</td>\n",
       "      <td>0</td>\n",
       "      <td>United Kingdom</td>\n",
       "      <td>3</td>\n",
       "      <td>birthday card</td>\n",
       "    </tr>\n",
       "    <tr>\n",
       "      <th>3</th>\n",
       "      <td>Personalized Leather Card Holder, Black red bl...</td>\n",
       "      <td>991</td>\n",
       "      <td>1</td>\n",
       "      <td>4.5</td>\n",
       "      <td>1,345</td>\n",
       "      <td>25.19</td>\n",
       "      <td>1.0</td>\n",
       "      <td>11,375</td>\n",
       "      <td>20</td>\n",
       "      <td>▲ Croc embossed Genuine Leather Personalised C...</td>\n",
       "      <td>4.0</td>\n",
       "      <td>3.99</td>\n",
       "      <td>0</td>\n",
       "      <td>United Kingdom</td>\n",
       "      <td>10</td>\n",
       "      <td>birthday card</td>\n",
       "    </tr>\n",
       "    <tr>\n",
       "      <th>4</th>\n",
       "      <td>Among Us Birthday Card - It's Your Birthday, S...</td>\n",
       "      <td>1982</td>\n",
       "      <td>1</td>\n",
       "      <td>5</td>\n",
       "      <td>24</td>\n",
       "      <td>2.95</td>\n",
       "      <td>1.0</td>\n",
       "      <td>843</td>\n",
       "      <td>20</td>\n",
       "      <td>Among Us Birthday Card - Its Your Birthday, Se...</td>\n",
       "      <td>4.0</td>\n",
       "      <td>1.00</td>\n",
       "      <td>1</td>\n",
       "      <td>United Kingdom</td>\n",
       "      <td>8</td>\n",
       "      <td>birthday card</td>\n",
       "    </tr>\n",
       "  </tbody>\n",
       "</table>\n",
       "</div>"
      ],
      "text/plain": [
       "                                               Title  Shop_Name  Is_Ad  \\\n",
       "0  Happy birthday card, Bird birthday card, Natur...        279      1   \n",
       "1  Carousel Happy Birthday Card, Handmade Laser C...       1689      1   \n",
       "2  FLOWER BIRTHDAY CARD | Birthday Card for Her |...        348      1   \n",
       "3  Personalized Leather Card Holder, Black red bl...        991      1   \n",
       "4  Among Us Birthday Card - It's Your Birthday, S...       1982      1   \n",
       "\n",
       "  Star_Rating Num_Reviews  Price  Is_Bestseller Num_Sales  Num_Basket  \\\n",
       "0           5       2,391   4.99            1.0    14,319          20   \n",
       "1           5       1,728   5.99            1.0    15,066           0   \n",
       "2           5          97   2.30            1.0     1,041          20   \n",
       "3         4.5       1,345  25.19            1.0    11,375          20   \n",
       "4           5          24   2.95            1.0       843          20   \n",
       "\n",
       "                                         Description  Days_to_Arrival  \\\n",
       "0  Each piece at Chau Art is originally hand desi...              3.0   \n",
       "1  POSTAGE: UK - From 5 Sept 2020 all orders will...              6.0   \n",
       "2  Flower birthday card featuring a pink orchid o...              6.0   \n",
       "3  ▲ Croc embossed Genuine Leather Personalised C...              4.0   \n",
       "4  Among Us Birthday Card - Its Your Birthday, Se...              4.0   \n",
       "\n",
       "   Cost_Delivery  Returns_Accepted Dispatched_From  Num_Images       Category  \n",
       "0           0.99                 1  United Kingdom           1  birthday card  \n",
       "1           2.95                 1  United Kingdom           1  birthday card  \n",
       "2           1.00                 0  United Kingdom           3  birthday card  \n",
       "3           3.99                 0  United Kingdom          10  birthday card  \n",
       "4           1.00                 1  United Kingdom           8  birthday card  "
      ]
     },
     "execution_count": 2,
     "metadata": {},
     "output_type": "execute_result"
    }
   ],
   "source": [
    "df = pd.read_csv('raw_data.csv', index_col=0)\n",
    "\n",
    "df.head()"
   ]
  },
  {
   "cell_type": "markdown",
   "metadata": {},
   "source": [
    "## Data Exploration Roadmap\n",
    "\n",
    "* drop category column \n",
    "\n",
    "\n",
    "* Describe data - will get numeric values \n",
    "* df.shape \n",
    "* value_counts \n",
    "* check out NaNs\n",
    "* group by shop names to see unique shops \n",
    "    * Price, days to arrival, cost delivery, num images for top-num sales shops \n",
    "\n",
    "\n",
    "* bar graph for is_ad\n",
    "* bar graph for star_rating -> bucket star count \n",
    "* bar graph for is_bestseller\n",
    "* bar graph for numbasket\n",
    "* bar graph for returns accepted \n",
    "\n",
    "\n",
    "* Histogram of num reviews\n",
    "* Histogram of price \n",
    "* Histogram of num sales \n",
    "* Histogram days to arrival \n",
    "* Histogram of delivery cost \n",
    "* Histogram for num images \n",
    "\n",
    "* value_counts for delivery country \n",
    "\n",
    "* description/ title feature engineering? \n",
    "\n",
    "### Price- Specific Exploration\n",
    "\n",
    "* Price for ad vs. not ad \n",
    "* Price for star rating \n",
    "* Price for num reviews\n",
    "* Price for image count \n",
    "* Price for bestseller \n",
    "* Price for num sales \n",
    "* Price for delivery cost \n",
    "* Correlation heatmap "
   ]
  },
  {
   "cell_type": "code",
   "execution_count": 3,
   "metadata": {},
   "outputs": [],
   "source": [
    "df = df.drop(['Category'], axis=1)"
   ]
  },
  {
   "cell_type": "code",
   "execution_count": 4,
   "metadata": {},
   "outputs": [
    {
     "data": {
      "text/plain": [
       "(14731, 15)"
      ]
     },
     "execution_count": 4,
     "metadata": {},
     "output_type": "execute_result"
    }
   ],
   "source": [
    "df.shape"
   ]
  },
  {
   "cell_type": "code",
   "execution_count": 5,
   "metadata": {},
   "outputs": [
    {
     "data": {
      "text/plain": [
       "Title                object\n",
       "Shop_Name             int64\n",
       "Is_Ad                 int64\n",
       "Star_Rating          object\n",
       "Num_Reviews          object\n",
       "Price               float64\n",
       "Is_Bestseller       float64\n",
       "Num_Sales            object\n",
       "Num_Basket            int64\n",
       "Description          object\n",
       "Days_to_Arrival     float64\n",
       "Cost_Delivery       float64\n",
       "Returns_Accepted      int64\n",
       "Dispatched_From      object\n",
       "Num_Images            int64\n",
       "dtype: object"
      ]
     },
     "execution_count": 5,
     "metadata": {},
     "output_type": "execute_result"
    }
   ],
   "source": [
    "df.dtypes"
   ]
  },
  {
   "cell_type": "code",
   "execution_count": 6,
   "metadata": {},
   "outputs": [
    {
     "data": {
      "text/plain": [
       "Title                  0\n",
       "Shop_Name              0\n",
       "Is_Ad                  0\n",
       "Star_Rating          915\n",
       "Num_Reviews          440\n",
       "Price                543\n",
       "Is_Bestseller       4640\n",
       "Num_Sales              0\n",
       "Num_Basket             0\n",
       "Description            0\n",
       "Days_to_Arrival     2642\n",
       "Cost_Delivery         57\n",
       "Returns_Accepted       0\n",
       "Dispatched_From       89\n",
       "Num_Images             0\n",
       "dtype: int64"
      ]
     },
     "execution_count": 6,
     "metadata": {},
     "output_type": "execute_result"
    }
   ],
   "source": [
    "df.isnull().sum()"
   ]
  },
  {
   "cell_type": "code",
   "execution_count": 7,
   "metadata": {},
   "outputs": [
    {
     "data": {
      "image/png": "[encoded data removed]",
      "text/plain": [
       "<Figure size 1800x720 with 2 Axes>"
      ]
     },
     "metadata": {
      "needs_background": "light"
     },
     "output_type": "display_data"
    }
   ],
   "source": [
    "msno.matrix(df)\n",
    "plt.show()"
   ]
  },
  {
   "cell_type": "code",
   "execution_count": 8,
   "metadata": {},
   "outputs": [
    {
     "data": {
      "text/plain": [
       "(14188, 15)"
      ]
     },
     "execution_count": 8,
     "metadata": {},
     "output_type": "execute_result"
    }
   ],
   "source": [
    "df.dropna(subset = [\"Price\"], inplace=True)\n",
    "df.shape"
   ]
  },
  {
   "cell_type": "code",
   "execution_count": 9,
   "metadata": {},
   "outputs": [
    {
     "data": {
      "text/plain": [
       "Title                  0\n",
       "Shop_Name              0\n",
       "Is_Ad                  0\n",
       "Star_Rating          372\n",
       "Num_Reviews            0\n",
       "Price                  0\n",
       "Is_Bestseller       4442\n",
       "Num_Sales              0\n",
       "Num_Basket             0\n",
       "Description            0\n",
       "Days_to_Arrival     2529\n",
       "Cost_Delivery         49\n",
       "Returns_Accepted       0\n",
       "Dispatched_From       80\n",
       "Num_Images             0\n",
       "dtype: int64"
      ]
     },
     "execution_count": 9,
     "metadata": {},
     "output_type": "execute_result"
    }
   ],
   "source": [
    "df.isnull().sum()"
   ]
  },
  {
   "cell_type": "code",
   "execution_count": 10,
   "metadata": {},
   "outputs": [
    {
     "data": {
      "text/plain": [
       "Title                object\n",
       "Shop_Name             int64\n",
       "Is_Ad                 int64\n",
       "Star_Rating          object\n",
       "Num_Reviews          object\n",
       "Price               float64\n",
       "Is_Bestseller       float64\n",
       "Num_Sales            object\n",
       "Num_Basket            int64\n",
       "Description          object\n",
       "Days_to_Arrival     float64\n",
       "Cost_Delivery       float64\n",
       "Returns_Accepted      int64\n",
       "Dispatched_From      object\n",
       "Num_Images            int64\n",
       "dtype: object"
      ]
     },
     "execution_count": 10,
     "metadata": {},
     "output_type": "execute_result"
    }
   ],
   "source": [
    "df.dtypes"
   ]
  },
  {
   "cell_type": "code",
   "execution_count": 11,
   "metadata": {},
   "outputs": [],
   "source": [
    "df['Num_Sales'] = df['Num_Sales'].str.replace(',', '')\n",
    "df['Num_Sales'] = df['Num_Sales'].astype(int)\n",
    "\n",
    "df['Num_Reviews'] = df['Num_Reviews'].str.replace(',', '')\n",
    "df['Num_Reviews'] = df['Num_Reviews'].apply(lambda x: int(x) if x.isdigit() else np.nan)"
   ]
  },
  {
   "cell_type": "code",
   "execution_count": 12,
   "metadata": {},
   "outputs": [],
   "source": [
    "digit = re.compile('\\d+(\\.\\d+)?')\n",
    "\n",
    "df['Star_Rating'] = df['Star_Rating'].apply(lambda x: float(x) if digit.match(str(x)) else np.nan)"
   ]
  },
  {
   "cell_type": "code",
   "execution_count": 18,
   "metadata": {},
   "outputs": [
    {
     "data": {
      "text/plain": [
       "Title                object\n",
       "Shop_Name             int64\n",
       "Is_Ad                 int64\n",
       "Star_Rating         float64\n",
       "Num_Reviews           int64\n",
       "Price               float64\n",
       "Num_Sales             int32\n",
       "Num_Basket            int64\n",
       "Description          object\n",
       "Days_to_Arrival     float64\n",
       "Cost_Delivery       float64\n",
       "Returns_Accepted      int64\n",
       "Dispatched_From      object\n",
       "Num_Images            int64\n",
       "dtype: object"
      ]
     },
     "execution_count": 18,
     "metadata": {},
     "output_type": "execute_result"
    }
   ],
   "source": [
    "df.dtypes"
   ]
  },
  {
   "cell_type": "code",
   "execution_count": 13,
   "metadata": {},
   "outputs": [
    {
     "data": {
      "text/html": [
       "<div>\n",
       "<style scoped>\n",
       "    .dataframe tbody tr th:only-of-type {\n",
       "        vertical-align: middle;\n",
       "    }\n",
       "\n",
       "    .dataframe tbody tr th {\n",
       "        vertical-align: top;\n",
       "    }\n",
       "\n",
       "    .dataframe thead th {\n",
       "        text-align: right;\n",
       "    }\n",
       "</style>\n",
       "<table border=\"1\" class=\"dataframe\">\n",
       "  <thead>\n",
       "    <tr style=\"text-align: right;\">\n",
       "      <th></th>\n",
       "      <th>Shop_Name</th>\n",
       "      <th>Is_Ad</th>\n",
       "      <th>Star_Rating</th>\n",
       "      <th>Num_Reviews</th>\n",
       "      <th>Price</th>\n",
       "      <th>Is_Bestseller</th>\n",
       "      <th>Num_Sales</th>\n",
       "      <th>Num_Basket</th>\n",
       "      <th>Days_to_Arrival</th>\n",
       "      <th>Cost_Delivery</th>\n",
       "      <th>Returns_Accepted</th>\n",
       "      <th>Num_Images</th>\n",
       "    </tr>\n",
       "  </thead>\n",
       "  <tbody>\n",
       "    <tr>\n",
       "      <th>count</th>\n",
       "      <td>14188.000000</td>\n",
       "      <td>14188.000000</td>\n",
       "      <td>13814.000000</td>\n",
       "      <td>14188.000000</td>\n",
       "      <td>14188.000000</td>\n",
       "      <td>9746.0</td>\n",
       "      <td>14188.000000</td>\n",
       "      <td>14188.000000</td>\n",
       "      <td>11659.000000</td>\n",
       "      <td>14139.000000</td>\n",
       "      <td>14188.000000</td>\n",
       "      <td>14188.000000</td>\n",
       "    </tr>\n",
       "    <tr>\n",
       "      <th>mean</th>\n",
       "      <td>1054.087468</td>\n",
       "      <td>0.153440</td>\n",
       "      <td>4.988237</td>\n",
       "      <td>1239.809769</td>\n",
       "      <td>3.877365</td>\n",
       "      <td>1.0</td>\n",
       "      <td>9825.048139</td>\n",
       "      <td>2.370383</td>\n",
       "      <td>4.396861</td>\n",
       "      <td>0.643863</td>\n",
       "      <td>0.702847</td>\n",
       "      <td>3.121582</td>\n",
       "    </tr>\n",
       "    <tr>\n",
       "      <th>std</th>\n",
       "      <td>597.371892</td>\n",
       "      <td>0.360423</td>\n",
       "      <td>0.088152</td>\n",
       "      <td>1834.584792</td>\n",
       "      <td>3.207983</td>\n",
       "      <td>0.0</td>\n",
       "      <td>14178.466023</td>\n",
       "      <td>4.695587</td>\n",
       "      <td>20.817424</td>\n",
       "      <td>1.434525</td>\n",
       "      <td>0.457020</td>\n",
       "      <td>2.527543</td>\n",
       "    </tr>\n",
       "    <tr>\n",
       "      <th>min</th>\n",
       "      <td>1.000000</td>\n",
       "      <td>0.000000</td>\n",
       "      <td>1.000000</td>\n",
       "      <td>0.000000</td>\n",
       "      <td>0.500000</td>\n",
       "      <td>1.0</td>\n",
       "      <td>0.000000</td>\n",
       "      <td>0.000000</td>\n",
       "      <td>-346.000000</td>\n",
       "      <td>0.000000</td>\n",
       "      <td>0.000000</td>\n",
       "      <td>1.000000</td>\n",
       "    </tr>\n",
       "    <tr>\n",
       "      <th>25%</th>\n",
       "      <td>534.750000</td>\n",
       "      <td>0.000000</td>\n",
       "      <td>5.000000</td>\n",
       "      <td>188.000000</td>\n",
       "      <td>2.950000</td>\n",
       "      <td>1.0</td>\n",
       "      <td>1260.750000</td>\n",
       "      <td>0.000000</td>\n",
       "      <td>4.000000</td>\n",
       "      <td>0.000000</td>\n",
       "      <td>0.000000</td>\n",
       "      <td>1.000000</td>\n",
       "    </tr>\n",
       "    <tr>\n",
       "      <th>50%</th>\n",
       "      <td>1063.000000</td>\n",
       "      <td>0.000000</td>\n",
       "      <td>5.000000</td>\n",
       "      <td>668.000000</td>\n",
       "      <td>3.400000</td>\n",
       "      <td>1.0</td>\n",
       "      <td>4764.000000</td>\n",
       "      <td>0.000000</td>\n",
       "      <td>5.000000</td>\n",
       "      <td>0.000000</td>\n",
       "      <td>1.000000</td>\n",
       "      <td>2.000000</td>\n",
       "    </tr>\n",
       "    <tr>\n",
       "      <th>75%</th>\n",
       "      <td>1595.250000</td>\n",
       "      <td>0.000000</td>\n",
       "      <td>5.000000</td>\n",
       "      <td>1701.000000</td>\n",
       "      <td>3.950000</td>\n",
       "      <td>1.0</td>\n",
       "      <td>12540.500000</td>\n",
       "      <td>3.000000</td>\n",
       "      <td>7.000000</td>\n",
       "      <td>1.000000</td>\n",
       "      <td>1.000000</td>\n",
       "      <td>4.000000</td>\n",
       "    </tr>\n",
       "    <tr>\n",
       "      <th>max</th>\n",
       "      <td>2117.000000</td>\n",
       "      <td>1.000000</td>\n",
       "      <td>5.000000</td>\n",
       "      <td>26631.000000</td>\n",
       "      <td>133.000000</td>\n",
       "      <td>1.0</td>\n",
       "      <td>139336.000000</td>\n",
       "      <td>113.000000</td>\n",
       "      <td>19.000000</td>\n",
       "      <td>43.180000</td>\n",
       "      <td>1.000000</td>\n",
       "      <td>10.000000</td>\n",
       "    </tr>\n",
       "  </tbody>\n",
       "</table>\n",
       "</div>"
      ],
      "text/plain": [
       "          Shop_Name         Is_Ad   Star_Rating   Num_Reviews         Price  \\\n",
       "count  14188.000000  14188.000000  13814.000000  14188.000000  14188.000000   \n",
       "mean    1054.087468      0.153440      4.988237   1239.809769      3.877365   \n",
       "std      597.371892      0.360423      0.088152   1834.584792      3.207983   \n",
       "min        1.000000      0.000000      1.000000      0.000000      0.500000   \n",
       "25%      534.750000      0.000000      5.000000    188.000000      2.950000   \n",
       "50%     1063.000000      0.000000      5.000000    668.000000      3.400000   \n",
       "75%     1595.250000      0.000000      5.000000   1701.000000      3.950000   \n",
       "max     2117.000000      1.000000      5.000000  26631.000000    133.000000   \n",
       "\n",
       "       Is_Bestseller      Num_Sales    Num_Basket  Days_to_Arrival  \\\n",
       "count         9746.0   14188.000000  14188.000000     11659.000000   \n",
       "mean             1.0    9825.048139      2.370383         4.396861   \n",
       "std              0.0   14178.466023      4.695587        20.817424   \n",
       "min              1.0       0.000000      0.000000      -346.000000   \n",
       "25%              1.0    1260.750000      0.000000         4.000000   \n",
       "50%              1.0    4764.000000      0.000000         5.000000   \n",
       "75%              1.0   12540.500000      3.000000         7.000000   \n",
       "max              1.0  139336.000000    113.000000        19.000000   \n",
       "\n",
       "       Cost_Delivery  Returns_Accepted    Num_Images  \n",
       "count   14139.000000      14188.000000  14188.000000  \n",
       "mean        0.643863          0.702847      3.121582  \n",
       "std         1.434525          0.457020      2.527543  \n",
       "min         0.000000          0.000000      1.000000  \n",
       "25%         0.000000          0.000000      1.000000  \n",
       "50%         0.000000          1.000000      2.000000  \n",
       "75%         1.000000          1.000000      4.000000  \n",
       "max        43.180000          1.000000     10.000000  "
      ]
     },
     "execution_count": 13,
     "metadata": {},
     "output_type": "execute_result"
    }
   ],
   "source": [
    "df.describe()"
   ]
  },
  {
   "cell_type": "code",
   "execution_count": 14,
   "metadata": {},
   "outputs": [
    {
     "data": {
      "text/plain": [
       "(11608, 14)"
      ]
     },
     "execution_count": 14,
     "metadata": {},
     "output_type": "execute_result"
    }
   ],
   "source": [
    "df = df.drop(['Is_Bestseller'], axis=1)\n",
    "df = df[df['Days_to_Arrival'] > 0]\n",
    "df = df[df['Num_Basket'] <= 20]\n",
    "df.shape"
   ]
  },
  {
   "cell_type": "code",
   "execution_count": 24,
   "metadata": {},
   "outputs": [
    {
     "data": {
      "text/plain": [
       "Title                 0\n",
       "Shop_Name             0\n",
       "Is_Ad                 0\n",
       "Star_Rating         291\n",
       "Num_Reviews           0\n",
       "Price                 0\n",
       "Num_Sales             0\n",
       "Num_Basket            0\n",
       "Description           0\n",
       "Days_to_Arrival       0\n",
       "Cost_Delivery         0\n",
       "Returns_Accepted      0\n",
       "Dispatched_From       0\n",
       "Num_Images            0\n",
       "dtype: int64"
      ]
     },
     "execution_count": 24,
     "metadata": {},
     "output_type": "execute_result"
    }
   ],
   "source": [
    "df.isnull().sum()"
   ]
  },
  {
   "cell_type": "code",
   "execution_count": 15,
   "metadata": {},
   "outputs": [
    {
     "data": {
      "text/html": [
       "<div>\n",
       "<style scoped>\n",
       "    .dataframe tbody tr th:only-of-type {\n",
       "        vertical-align: middle;\n",
       "    }\n",
       "\n",
       "    .dataframe tbody tr th {\n",
       "        vertical-align: top;\n",
       "    }\n",
       "\n",
       "    .dataframe thead th {\n",
       "        text-align: right;\n",
       "    }\n",
       "</style>\n",
       "<table border=\"1\" class=\"dataframe\">\n",
       "  <thead>\n",
       "    <tr style=\"text-align: right;\">\n",
       "      <th></th>\n",
       "      <th>Title</th>\n",
       "      <th>Shop_Name</th>\n",
       "      <th>Is_Ad</th>\n",
       "      <th>Star_Rating</th>\n",
       "      <th>Num_Reviews</th>\n",
       "      <th>Price</th>\n",
       "      <th>Num_Sales</th>\n",
       "      <th>Num_Basket</th>\n",
       "      <th>Description</th>\n",
       "      <th>Days_to_Arrival</th>\n",
       "      <th>Cost_Delivery</th>\n",
       "      <th>Returns_Accepted</th>\n",
       "      <th>Dispatched_From</th>\n",
       "      <th>Num_Images</th>\n",
       "    </tr>\n",
       "  </thead>\n",
       "  <tbody>\n",
       "    <tr>\n",
       "      <th>65</th>\n",
       "      <td>Violin Houseplant Card - Eco Greetings Card, G...</td>\n",
       "      <td>1677</td>\n",
       "      <td>1</td>\n",
       "      <td>NaN</td>\n",
       "      <td>0</td>\n",
       "      <td>3.50</td>\n",
       "      <td>4</td>\n",
       "      <td>0</td>\n",
       "      <td>A5 card features my Violin design with a lovel...</td>\n",
       "      <td>6.0</td>\n",
       "      <td>0.00</td>\n",
       "      <td>1</td>\n",
       "      <td>United Kingdom</td>\n",
       "      <td>2</td>\n",
       "    </tr>\n",
       "    <tr>\n",
       "      <th>87</th>\n",
       "      <td>Electric Guitar Houseplant Card - Eco Greeting...</td>\n",
       "      <td>1677</td>\n",
       "      <td>1</td>\n",
       "      <td>NaN</td>\n",
       "      <td>0</td>\n",
       "      <td>3.50</td>\n",
       "      <td>4</td>\n",
       "      <td>0</td>\n",
       "      <td>A5 card features my John Mayer signature Silve...</td>\n",
       "      <td>6.0</td>\n",
       "      <td>0.00</td>\n",
       "      <td>1</td>\n",
       "      <td>United Kingdom</td>\n",
       "      <td>2</td>\n",
       "    </tr>\n",
       "    <tr>\n",
       "      <th>133</th>\n",
       "      <td>Wurlitzer Piano Houseplant Card - Eco Greeting...</td>\n",
       "      <td>1677</td>\n",
       "      <td>1</td>\n",
       "      <td>NaN</td>\n",
       "      <td>0</td>\n",
       "      <td>3.50</td>\n",
       "      <td>4</td>\n",
       "      <td>1</td>\n",
       "      <td>A5 card features my vintage Wurlitzer electric...</td>\n",
       "      <td>6.0</td>\n",
       "      <td>0.00</td>\n",
       "      <td>1</td>\n",
       "      <td>United Kingdom</td>\n",
       "      <td>2</td>\n",
       "    </tr>\n",
       "    <tr>\n",
       "      <th>151</th>\n",
       "      <td>You're on Mute Card</td>\n",
       "      <td>1869</td>\n",
       "      <td>1</td>\n",
       "      <td>NaN</td>\n",
       "      <td>0</td>\n",
       "      <td>2.99</td>\n",
       "      <td>20</td>\n",
       "      <td>8</td>\n",
       "      <td>Funny, high quality Youre on Mute Card that yo...</td>\n",
       "      <td>4.0</td>\n",
       "      <td>1.00</td>\n",
       "      <td>0</td>\n",
       "      <td>United Kingdom</td>\n",
       "      <td>1</td>\n",
       "    </tr>\n",
       "    <tr>\n",
       "      <th>366</th>\n",
       "      <td>Courage Greeting Card</td>\n",
       "      <td>103</td>\n",
       "      <td>1</td>\n",
       "      <td>NaN</td>\n",
       "      <td>0</td>\n",
       "      <td>2.95</td>\n",
       "      <td>0</td>\n",
       "      <td>0</td>\n",
       "      <td>Sometimes in life we need a little bravery, bu...</td>\n",
       "      <td>6.0</td>\n",
       "      <td>0.99</td>\n",
       "      <td>0</td>\n",
       "      <td>United Kingdom</td>\n",
       "      <td>2</td>\n",
       "    </tr>\n",
       "    <tr>\n",
       "      <th>391</th>\n",
       "      <td>Courage Greeting Card</td>\n",
       "      <td>103</td>\n",
       "      <td>1</td>\n",
       "      <td>NaN</td>\n",
       "      <td>0</td>\n",
       "      <td>2.95</td>\n",
       "      <td>0</td>\n",
       "      <td>0</td>\n",
       "      <td>Sometimes in life we need a little bravery, bu...</td>\n",
       "      <td>6.0</td>\n",
       "      <td>0.99</td>\n",
       "      <td>0</td>\n",
       "      <td>United Kingdom</td>\n",
       "      <td>2</td>\n",
       "    </tr>\n",
       "    <tr>\n",
       "      <th>458</th>\n",
       "      <td>Cute Dog Card / Cute Animal Card /  Birthday C...</td>\n",
       "      <td>1957</td>\n",
       "      <td>1</td>\n",
       "      <td>NaN</td>\n",
       "      <td>0</td>\n",
       "      <td>3.49</td>\n",
       "      <td>1</td>\n",
       "      <td>0</td>\n",
       "      <td>It wasnt me...honest!  Our lovely cute King Ch...</td>\n",
       "      <td>6.0</td>\n",
       "      <td>0.00</td>\n",
       "      <td>0</td>\n",
       "      <td>United Kingdom</td>\n",
       "      <td>1</td>\n",
       "    </tr>\n",
       "    <tr>\n",
       "      <th>523</th>\n",
       "      <td>Courage Greeting Card</td>\n",
       "      <td>103</td>\n",
       "      <td>1</td>\n",
       "      <td>NaN</td>\n",
       "      <td>0</td>\n",
       "      <td>2.95</td>\n",
       "      <td>0</td>\n",
       "      <td>0</td>\n",
       "      <td>Sometimes in life we need a little bravery, bu...</td>\n",
       "      <td>6.0</td>\n",
       "      <td>0.99</td>\n",
       "      <td>0</td>\n",
       "      <td>United Kingdom</td>\n",
       "      <td>2</td>\n",
       "    </tr>\n",
       "    <tr>\n",
       "      <th>737</th>\n",
       "      <td>Personalised Giraffe Birthday Card! Cross-stit...</td>\n",
       "      <td>346</td>\n",
       "      <td>1</td>\n",
       "      <td>NaN</td>\n",
       "      <td>0</td>\n",
       "      <td>6.00</td>\n",
       "      <td>1</td>\n",
       "      <td>1</td>\n",
       "      <td>Gerald the Giraffe Cross-Stitch Personalised B...</td>\n",
       "      <td>4.0</td>\n",
       "      <td>0.00</td>\n",
       "      <td>0</td>\n",
       "      <td>United Kingdom</td>\n",
       "      <td>1</td>\n",
       "    </tr>\n",
       "    <tr>\n",
       "      <th>756</th>\n",
       "      <td>Happy Birthday - Abstract Leopard - Screen pri...</td>\n",
       "      <td>1743</td>\n",
       "      <td>1</td>\n",
       "      <td>NaN</td>\n",
       "      <td>0</td>\n",
       "      <td>3.00</td>\n",
       "      <td>8</td>\n",
       "      <td>1</td>\n",
       "      <td>An original painterly screen print, hand print...</td>\n",
       "      <td>4.0</td>\n",
       "      <td>0.00</td>\n",
       "      <td>1</td>\n",
       "      <td>United Kingdom</td>\n",
       "      <td>6</td>\n",
       "    </tr>\n",
       "  </tbody>\n",
       "</table>\n",
       "</div>"
      ],
      "text/plain": [
       "                                                 Title  Shop_Name  Is_Ad  \\\n",
       "65   Violin Houseplant Card - Eco Greetings Card, G...       1677      1   \n",
       "87   Electric Guitar Houseplant Card - Eco Greeting...       1677      1   \n",
       "133  Wurlitzer Piano Houseplant Card - Eco Greeting...       1677      1   \n",
       "151                                You're on Mute Card       1869      1   \n",
       "366                              Courage Greeting Card        103      1   \n",
       "391                              Courage Greeting Card        103      1   \n",
       "458  Cute Dog Card / Cute Animal Card /  Birthday C...       1957      1   \n",
       "523                              Courage Greeting Card        103      1   \n",
       "737  Personalised Giraffe Birthday Card! Cross-stit...        346      1   \n",
       "756  Happy Birthday - Abstract Leopard - Screen pri...       1743      1   \n",
       "\n",
       "     Star_Rating  Num_Reviews  Price  Num_Sales  Num_Basket  \\\n",
       "65           NaN            0   3.50          4           0   \n",
       "87           NaN            0   3.50          4           0   \n",
       "133          NaN            0   3.50          4           1   \n",
       "151          NaN            0   2.99         20           8   \n",
       "366          NaN            0   2.95          0           0   \n",
       "391          NaN            0   2.95          0           0   \n",
       "458          NaN            0   3.49          1           0   \n",
       "523          NaN            0   2.95          0           0   \n",
       "737          NaN            0   6.00          1           1   \n",
       "756          NaN            0   3.00          8           1   \n",
       "\n",
       "                                           Description  Days_to_Arrival  \\\n",
       "65   A5 card features my Violin design with a lovel...              6.0   \n",
       "87   A5 card features my John Mayer signature Silve...              6.0   \n",
       "133  A5 card features my vintage Wurlitzer electric...              6.0   \n",
       "151  Funny, high quality Youre on Mute Card that yo...              4.0   \n",
       "366  Sometimes in life we need a little bravery, bu...              6.0   \n",
       "391  Sometimes in life we need a little bravery, bu...              6.0   \n",
       "458  It wasnt me...honest!  Our lovely cute King Ch...              6.0   \n",
       "523  Sometimes in life we need a little bravery, bu...              6.0   \n",
       "737  Gerald the Giraffe Cross-Stitch Personalised B...              4.0   \n",
       "756  An original painterly screen print, hand print...              4.0   \n",
       "\n",
       "     Cost_Delivery  Returns_Accepted Dispatched_From  Num_Images  \n",
       "65            0.00                 1  United Kingdom           2  \n",
       "87            0.00                 1  United Kingdom           2  \n",
       "133           0.00                 1  United Kingdom           2  \n",
       "151           1.00                 0  United Kingdom           1  \n",
       "366           0.99                 0  United Kingdom           2  \n",
       "391           0.99                 0  United Kingdom           2  \n",
       "458           0.00                 0  United Kingdom           1  \n",
       "523           0.99                 0  United Kingdom           2  \n",
       "737           0.00                 0  United Kingdom           1  \n",
       "756           0.00                 1  United Kingdom           6  "
      ]
     },
     "execution_count": 15,
     "metadata": {},
     "output_type": "execute_result"
    }
   ],
   "source": [
    "df[df['Star_Rating'].isnull()].head(10)"
   ]
  },
  {
   "cell_type": "markdown",
   "metadata": {},
   "source": [
    "-All ads\n",
    "-Few sales\n",
    "-Likely don't have any reviews\n",
    "-Will create two datasets - one imputing the NaNs with 0, the other dropping the NaN records\n",
    "\n",
    "* group by shop names to see unique shops \n",
    "    * Price, days to arrival, cost delivery, num images for top-num sales shops "
   ]
  },
  {
   "cell_type": "code",
   "execution_count": 21,
   "metadata": {},
   "outputs": [
    {
     "data": {
      "text/html": [
       "<div>\n",
       "<style scoped>\n",
       "    .dataframe tbody tr th:only-of-type {\n",
       "        vertical-align: middle;\n",
       "    }\n",
       "\n",
       "    .dataframe tbody tr th {\n",
       "        vertical-align: top;\n",
       "    }\n",
       "\n",
       "    .dataframe thead th {\n",
       "        text-align: right;\n",
       "    }\n",
       "</style>\n",
       "<table border=\"1\" class=\"dataframe\">\n",
       "  <thead>\n",
       "    <tr style=\"text-align: right;\">\n",
       "      <th></th>\n",
       "      <th>Shop_Name</th>\n",
       "      <th>Num_Sales</th>\n",
       "      <th>Price</th>\n",
       "      <th>Cost_Delivery</th>\n",
       "      <th>Num_Images</th>\n",
       "    </tr>\n",
       "  </thead>\n",
       "  <tbody>\n",
       "    <tr>\n",
       "      <th>0</th>\n",
       "      <td>776</td>\n",
       "      <td>128763</td>\n",
       "      <td>2.625000</td>\n",
       "      <td>0.337222</td>\n",
       "      <td>2.944444</td>\n",
       "    </tr>\n",
       "    <tr>\n",
       "      <th>1</th>\n",
       "      <td>1633</td>\n",
       "      <td>80788</td>\n",
       "      <td>4.300000</td>\n",
       "      <td>0.990000</td>\n",
       "      <td>9.000000</td>\n",
       "    </tr>\n",
       "    <tr>\n",
       "      <th>2</th>\n",
       "      <td>362</td>\n",
       "      <td>80765</td>\n",
       "      <td>3.000000</td>\n",
       "      <td>0.491538</td>\n",
       "      <td>3.192308</td>\n",
       "    </tr>\n",
       "    <tr>\n",
       "      <th>3</th>\n",
       "      <td>1337</td>\n",
       "      <td>80763</td>\n",
       "      <td>4.490000</td>\n",
       "      <td>0.435000</td>\n",
       "      <td>4.750000</td>\n",
       "    </tr>\n",
       "    <tr>\n",
       "      <th>4</th>\n",
       "      <td>1751</td>\n",
       "      <td>80762</td>\n",
       "      <td>2.000000</td>\n",
       "      <td>0.495000</td>\n",
       "      <td>6.500000</td>\n",
       "    </tr>\n",
       "    <tr>\n",
       "      <th>5</th>\n",
       "      <td>155</td>\n",
       "      <td>80761</td>\n",
       "      <td>3.245968</td>\n",
       "      <td>0.387581</td>\n",
       "      <td>3.032258</td>\n",
       "    </tr>\n",
       "    <tr>\n",
       "      <th>6</th>\n",
       "      <td>1603</td>\n",
       "      <td>80747</td>\n",
       "      <td>5.000000</td>\n",
       "      <td>0.496857</td>\n",
       "      <td>3.647619</td>\n",
       "    </tr>\n",
       "    <tr>\n",
       "      <th>7</th>\n",
       "      <td>1103</td>\n",
       "      <td>80747</td>\n",
       "      <td>3.968023</td>\n",
       "      <td>0.397558</td>\n",
       "      <td>3.709302</td>\n",
       "    </tr>\n",
       "    <tr>\n",
       "      <th>8</th>\n",
       "      <td>1187</td>\n",
       "      <td>80382</td>\n",
       "      <td>4.990000</td>\n",
       "      <td>0.556667</td>\n",
       "      <td>3.333333</td>\n",
       "    </tr>\n",
       "    <tr>\n",
       "      <th>9</th>\n",
       "      <td>1317</td>\n",
       "      <td>79487</td>\n",
       "      <td>3.500000</td>\n",
       "      <td>0.589375</td>\n",
       "      <td>3.062500</td>\n",
       "    </tr>\n",
       "  </tbody>\n",
       "</table>\n",
       "</div>"
      ],
      "text/plain": [
       "   Shop_Name  Num_Sales     Price  Cost_Delivery  Num_Images\n",
       "0        776     128763  2.625000       0.337222    2.944444\n",
       "1       1633      80788  4.300000       0.990000    9.000000\n",
       "2        362      80765  3.000000       0.491538    3.192308\n",
       "3       1337      80763  4.490000       0.435000    4.750000\n",
       "4       1751      80762  2.000000       0.495000    6.500000\n",
       "5        155      80761  3.245968       0.387581    3.032258\n",
       "6       1603      80747  5.000000       0.496857    3.647619\n",
       "7       1103      80747  3.968023       0.397558    3.709302\n",
       "8       1187      80382  4.990000       0.556667    3.333333\n",
       "9       1317      79487  3.500000       0.589375    3.062500"
      ]
     },
     "execution_count": 21,
     "metadata": {},
     "output_type": "execute_result"
    }
   ],
   "source": [
    "top_shops = df.groupby('Shop_Name').agg({'Num_Sales':'max','Price':'mean','Cost_Delivery':'mean','Num_Images': 'mean'}).sort_values('Num_Sales', ascending=False).reset_index()\n",
    "top_shops.head(10)"
   ]
  },
  {
   "cell_type": "markdown",
   "metadata": {},
   "source": [
    "* bar graph for is_ad\n",
    "* bar graph for star_rating -> bucket star count \n",
    "* bar graph for numbasket\n",
    "* bar graph for returns accepted "
   ]
  },
  {
   "cell_type": "code",
   "execution_count": 25,
   "metadata": {},
   "outputs": [
    {
     "data": {
      "text/plain": [
       "Index(['Title', 'Shop_Name', 'Is_Ad', 'Star_Rating', 'Num_Reviews', 'Price',\n",
       "       'Num_Sales', 'Num_Basket', 'Description', 'Days_to_Arrival',\n",
       "       'Cost_Delivery', 'Returns_Accepted', 'Dispatched_From', 'Num_Images'],\n",
       "      dtype='object')"
      ]
     },
     "execution_count": 25,
     "metadata": {},
     "output_type": "execute_result"
    }
   ],
   "source": [
    "df.columns"
   ]
  },
  {
   "cell_type": "code",
   "execution_count": 36,
   "metadata": {},
   "outputs": [],
   "source": [
    "#Define a function that will show numbers above countplots\n",
    "def show_values_on_bars(axis):\n",
    "    def _show_on_single_plot(ax):        \n",
    "        for p in ax.patches:\n",
    "            _x = p.get_x() + p.get_width() / 2\n",
    "            _y = p.get_y() + p.get_height()\n",
    "            value = '{:}'.format(p.get_height())\n",
    "            ax.text(_x, _y, value, ha=\"center\") \n",
    "\n",
    "    if isinstance(axis, np.ndarray):\n",
    "        for idx, ax in np.ndenumerate(axis):\n",
    "            _show_on_single_plot(ax)\n",
    "    else:\n",
    "        _show_on_single_plot(axis)"
   ]
  },
  {
   "cell_type": "code",
   "execution_count": 50,
   "metadata": {},
   "outputs": [],
   "source": [
    "def plot_bar(x,y,title,xticks):\n",
    "    ax = sns.barplot(x = x, y = y, palette = 'Set2')\n",
    "    plt.title(title)\n",
    "    plt.ylabel('Number of Listings')\n",
    "    ax.set_xticklabels(xticks)\n",
    "    show_values_on_bars(ax)"
   ]
  },
  {
   "cell_type": "code",
   "execution_count": 58,
   "metadata": {},
   "outputs": [
    {
     "data": {
      "image/png": "[encoded data removed]",
      "text/plain": [
       "<Figure size 432x288 with 1 Axes>"
      ]
     },
     "metadata": {
      "needs_background": "light"
     },
     "output_type": "display_data"
    }
   ],
   "source": [
    "xticks_ad = ['Regular', 'Ad']\n",
    "df_ad = df['Is_Ad'].value_counts()\n",
    "plot_bar(df_ad.index, df_ad.values, 'Ads v. Regular Listings',xticks_ad)\n",
    "\n",
    "plt.show()"
   ]
  },
  {
   "cell_type": "code",
   "execution_count": 61,
   "metadata": {},
   "outputs": [
    {
     "data": {
      "image/png": "[encoded data removed]",
      "text/plain": [
       "<Figure size 576x432 with 1 Axes>"
      ]
     },
     "metadata": {
      "needs_background": "light"
     },
     "output_type": "display_data"
    }
   ],
   "source": [
    "figure(figsize=(8, 6))\n",
    "xticks_basket = [0,1,2,3,4,5,6,7,8,9,10,11,12,13,14,15,16,17,18,19,20]\n",
    "df_basket = df['Num_Basket'].value_counts()\n",
    "plot_bar(df_basket.index, df_basket.values, 'Num Listings for each Basket Size', xticks_basket)\n",
    "\n",
    "plt.show()"
   ]
  },
  {
   "cell_type": "code",
   "execution_count": 65,
   "metadata": {},
   "outputs": [
    {
     "data": {
      "text/plain": [
       "1    8389\n",
       "0    3219\n",
       "Name: Returns_Accepted, dtype: int64"
      ]
     },
     "execution_count": 65,
     "metadata": {},
     "output_type": "execute_result"
    }
   ],
   "source": [
    "df['Returns_Accepted'].value_counts()\n"
   ]
  },
  {
   "cell_type": "code",
   "execution_count": 66,
   "metadata": {},
   "outputs": [
    {
     "data": {
      "image/png": "[encoded data removed]",
      "text/plain": [
       "<Figure size 432x288 with 1 Axes>"
      ]
     },
     "metadata": {
      "needs_background": "light"
     },
     "output_type": "display_data"
    }
   ],
   "source": [
    "xticks_returns = ['Not Accepted', 'Accepted']\n",
    "df_returns = df['Returns_Accepted'].value_counts()\n",
    "plot_bar(df_returns.index, df_returns.values, 'Returns Accepted v. Not Accepted',xticks_returns)\n",
    "\n",
    "plt.show()"
   ]
  },
  {
   "cell_type": "code",
   "execution_count": 70,
   "metadata": {},
   "outputs": [
    {
     "data": {
      "text/plain": [
       "5.0    11087\n",
       "NaN      291\n",
       "4.5      215\n",
       "4.0       11\n",
       "3.5        3\n",
       "1.0        1\n",
       "Name: Star_Rating, dtype: int64"
      ]
     },
     "execution_count": 70,
     "metadata": {},
     "output_type": "execute_result"
    }
   ],
   "source": [
    "df['Star_Rating'].value_counts(dropna=False)"
   ]
  },
  {
   "cell_type": "code",
   "execution_count": 72,
   "metadata": {},
   "outputs": [
    {
     "data": {
      "image/png": "[encoded data removed]",
      "text/plain": [
       "<Figure size 432x288 with 1 Axes>"
      ]
     },
     "metadata": {
      "needs_background": "light"
     },
     "output_type": "display_data"
    }
   ],
   "source": [
    "xticks_star = [1,3.5,4,4.5,5]\n",
    "df_star = df['Star_Rating'].value_counts()\n",
    "plot_bar(df_star.index, df_star.values, 'Number of Listings with Star Rating',xticks_star)\n",
    "\n",
    "plt.show()"
   ]
  },
  {
   "cell_type": "markdown",
   "metadata": {},
   "source": [
    "* Histogram of num reviews\n",
    "* Histogram of price \n",
    "* Histogram of num sales \n",
    "* Histogram days to arrival \n",
    "* Histogram of delivery cost \n",
    "* Histogram for num images "
   ]
  },
  {
   "cell_type": "code",
   "execution_count": 98,
   "metadata": {},
   "outputs": [],
   "source": [
    "def plot_hist(data,x, title, xlabel, bins = 10):\n",
    "    sns.histplot(data=data, x=x, palette = 'Set2')\n",
    "    ax.set_title(title)\n",
    "    ax.set_xlabel(xlabel)\n",
    "    ax.set_ylabel('Number of Listings')"
   ]
  },
  {
   "cell_type": "code",
   "execution_count": 101,
   "metadata": {},
   "outputs": [
    {
     "data": {
      "image/png": "[encoded data removed]",
      "text/plain": [
       "<Figure size 432x288 with 1 Axes>"
      ]
     },
     "metadata": {
      "needs_background": "light"
     },
     "output_type": "display_data"
    }
   ],
   "source": [
    "df_reviews = df.groupby('Num_Reviews')['Description'].count()\n",
    "\n",
    "fig, ax = plt.subplots()\n",
    "\n",
    "plot_hist(data = df_reviews, x = 'Num_Reviews', title = 'Review Count Distribution for Listings', xlabel = 'Number of Reviews')\n",
    "ax.set_xlim(1,10000)\n",
    "    \n",
    "plt.show()"
   ]
  },
  {
   "cell_type": "code",
   "execution_count": 108,
   "metadata": {},
   "outputs": [
    {
     "data": {
      "image/png": "[encoded data removed]",
      "text/plain": [
       "<Figure size 432x288 with 1 Axes>"
      ]
     },
     "metadata": {
      "needs_background": "light"
     },
     "output_type": "display_data"
    }
   ],
   "source": [
    "df_price = df.groupby('Price')['Description'].count()\n",
    "fig, ax = plt.subplots()\n",
    "\n",
    "plot_hist(data = df_price, x = 'Price', title = 'Price Distribution for Listings', xlabel = 'Price')\n",
    "ax.set_xlim(1,40)\n",
    "    \n",
    "plt.show()"
   ]
  },
  {
   "cell_type": "code",
   "execution_count": 113,
   "metadata": {},
   "outputs": [
    {
     "data": {
      "image/png": "[encoded data removed]",
      "text/plain": [
       "<Figure size 432x288 with 1 Axes>"
      ]
     },
     "metadata": {
      "needs_background": "light"
     },
     "output_type": "display_data"
    }
   ],
   "source": [
    "df_sales = df.groupby('Num_Sales')['Description'].count()\n",
    "fig, ax = plt.subplots()\n",
    "\n",
    "plot_hist(data = df_sales, x = 'Num_Sales', title = 'Number of Sales for Shops', xlabel = 'Number of Sales')\n",
    "ax.set_xlim(1,50000)\n",
    "    \n",
    "plt.show()"
   ]
  },
  {
   "cell_type": "code",
   "execution_count": 140,
   "metadata": {},
   "outputs": [
    {
     "data": {
      "image/png": "[encoded data removed]",
      "text/plain": [
       "<Figure size 576x432 with 1 Axes>"
      ]
     },
     "metadata": {
      "needs_background": "light"
     },
     "output_type": "display_data"
    }
   ],
   "source": [
    "df_arrival = df.groupby('Days_to_Arrival')['Description'].count()\n",
    "figure(figsize=(8, 6))\n",
    "\n",
    "xticks = [2,3,4,5,6,7,8,9,10,11,12,13,14,15,16,17,18,19]\n",
    "ax = sns.barplot(x = df_arrival.index, y=df_arrival.values, palette = 'Set2')\n",
    "ax.set_title('Distribution of Days to Arrival')\n",
    "ax.set_xlabel('Day to Arrival')\n",
    "ax.set_xlim(1,15)\n",
    "ax.set_ylabel('Number of Listings')\n",
    "ax.set_xticklabels(xticks)\n",
    "    \n",
    "plt.show()"
   ]
  },
  {
   "cell_type": "code",
   "execution_count": 147,
   "metadata": {},
   "outputs": [
    {
     "data": {
      "image/png": "[encoded data removed]",
      "text/plain": [
       "<Figure size 432x288 with 1 Axes>"
      ]
     },
     "metadata": {
      "needs_background": "light"
     },
     "output_type": "display_data"
    }
   ],
   "source": [
    "df_delivery = df.groupby('Cost_Delivery')['Description'].count()\n",
    "fig, ax = plt.subplots()\n",
    "\n",
    "plot_hist(data = df_delivery, x = 'Cost_Delivery', title = 'Delivery Cost Distribution', xlabel = 'Delivery Cost')\n",
    "ax.set_xlim(1,20)\n",
    "    \n",
    "plt.show()"
   ]
  },
  {
   "cell_type": "code",
   "execution_count": 149,
   "metadata": {},
   "outputs": [
    {
     "data": {
      "image/png": "[encoded data removed]",
      "text/plain": [
       "<Figure size 576x432 with 1 Axes>"
      ]
     },
     "metadata": {
      "needs_background": "light"
     },
     "output_type": "display_data"
    }
   ],
   "source": [
    "df_images = df.groupby('Num_Images')['Description'].count()\n",
    "figure(figsize=(8, 6))\n",
    "\n",
    "ax = sns.barplot(x = df_images.index, y=df_images.values, palette = 'Set2')\n",
    "ax.set_title('Distribution of Number of Images')\n",
    "ax.set_xlabel('Number of Images')\n",
    "ax.set_ylabel('Number of Listings')\n",
    "    \n",
    "plt.show()"
   ]
  },
  {
   "cell_type": "code",
   "execution_count": 150,
   "metadata": {},
   "outputs": [
    {
     "data": {
      "text/plain": [
       "Index(['Title', 'Shop_Name', 'Is_Ad', 'Star_Rating', 'Num_Reviews', 'Price',\n",
       "       'Num_Sales', 'Num_Basket', 'Description', 'Days_to_Arrival',\n",
       "       'Cost_Delivery', 'Returns_Accepted', 'Dispatched_From', 'Num_Images',\n",
       "       'Star_Rate'],\n",
       "      dtype='object')"
      ]
     },
     "execution_count": 150,
     "metadata": {},
     "output_type": "execute_result"
    }
   ],
   "source": [
    "df.columns"
   ]
  },
  {
   "cell_type": "code",
   "execution_count": 151,
   "metadata": {},
   "outputs": [
    {
     "data": {
      "text/plain": [
       "United Kingdom    11509\n",
       "United States        83\n",
       "Canada                8\n",
       "France                3\n",
       "Germany               3\n",
       "Switzerland           1\n",
       "India                 1\n",
       "Name: Dispatched_From, dtype: int64"
      ]
     },
     "execution_count": 151,
     "metadata": {},
     "output_type": "execute_result"
    }
   ],
   "source": [
    "df['Dispatched_From'].value_counts()"
   ]
  },
  {
   "cell_type": "code",
   "execution_count": 152,
   "metadata": {},
   "outputs": [],
   "source": [
    "df = df.drop(['Dispatched_From'], axis=1)"
   ]
  },
  {
   "cell_type": "markdown",
   "metadata": {},
   "source": [
    "### Price- Specific Exploration\n",
    "\n",
    "* Price for ad vs. not ad \n",
    "* Price for star rating \n",
    "* Price for num reviews\n",
    "* Price for image count \n",
    "* Price for bestseller \n",
    "* Price for num sales \n",
    "* Price for delivery cost \n",
    "* Correlation heatmap "
   ]
  },
  {
   "cell_type": "code",
   "execution_count": 167,
   "metadata": {},
   "outputs": [
    {
     "data": {
      "text/plain": [
       "Is_Ad\n",
       "0    3.653912\n",
       "1    5.106587\n",
       "Name: Price, dtype: float64"
      ]
     },
     "execution_count": 167,
     "metadata": {},
     "output_type": "execute_result"
    }
   ],
   "source": [
    "ad_price = df.groupby('Is_Ad')['Price'].mean()\n",
    "ad_price"
   ]
  },
  {
   "cell_type": "code",
   "execution_count": 162,
   "metadata": {},
   "outputs": [
    {
     "data": {
      "text/plain": [
       "Index(['Title', 'Shop_Name', 'Is_Ad', 'Star_Rating', 'Num_Reviews', 'Price',\n",
       "       'Num_Sales', 'Num_Basket', 'Description', 'Days_to_Arrival',\n",
       "       'Cost_Delivery', 'Returns_Accepted', 'Num_Images', 'Star_Rate'],\n",
       "      dtype='object')"
      ]
     },
     "execution_count": 162,
     "metadata": {},
     "output_type": "execute_result"
    }
   ],
   "source": [
    "df.columns"
   ]
  },
  {
   "cell_type": "code",
   "execution_count": 166,
   "metadata": {},
   "outputs": [
    {
     "data": {
      "text/plain": [
       "Star_Rate\n",
       "1    34.950000\n",
       "2          NaN\n",
       "3          NaN\n",
       "4     3.708571\n",
       "5     3.830290\n",
       "Name: Price, dtype: float64"
      ]
     },
     "execution_count": 166,
     "metadata": {},
     "output_type": "execute_result"
    }
   ],
   "source": [
    "star_price = df.groupby('Star_Rate')['Price'].mean()\n",
    "star_price"
   ]
  },
  {
   "cell_type": "code",
   "execution_count": 175,
   "metadata": {},
   "outputs": [
    {
     "data": {
      "text/html": [
       "<div>\n",
       "<style scoped>\n",
       "    .dataframe tbody tr th:only-of-type {\n",
       "        vertical-align: middle;\n",
       "    }\n",
       "\n",
       "    .dataframe tbody tr th {\n",
       "        vertical-align: top;\n",
       "    }\n",
       "\n",
       "    .dataframe thead th {\n",
       "        text-align: right;\n",
       "    }\n",
       "</style>\n",
       "<table border=\"1\" class=\"dataframe\">\n",
       "  <thead>\n",
       "    <tr style=\"text-align: right;\">\n",
       "      <th></th>\n",
       "      <th>Num_Reviews</th>\n",
       "      <th>Price</th>\n",
       "    </tr>\n",
       "  </thead>\n",
       "  <tbody>\n",
       "    <tr>\n",
       "      <th>0</th>\n",
       "      <td>0</td>\n",
       "      <td>5.264742</td>\n",
       "    </tr>\n",
       "    <tr>\n",
       "      <th>1</th>\n",
       "      <td>1</td>\n",
       "      <td>3.963636</td>\n",
       "    </tr>\n",
       "    <tr>\n",
       "      <th>2</th>\n",
       "      <td>2</td>\n",
       "      <td>4.368261</td>\n",
       "    </tr>\n",
       "    <tr>\n",
       "      <th>3</th>\n",
       "      <td>3</td>\n",
       "      <td>3.332424</td>\n",
       "    </tr>\n",
       "    <tr>\n",
       "      <th>4</th>\n",
       "      <td>4</td>\n",
       "      <td>3.466905</td>\n",
       "    </tr>\n",
       "    <tr>\n",
       "      <th>...</th>\n",
       "      <td>...</td>\n",
       "      <td>...</td>\n",
       "    </tr>\n",
       "    <tr>\n",
       "      <th>1703</th>\n",
       "      <td>19540</td>\n",
       "      <td>2.000000</td>\n",
       "    </tr>\n",
       "    <tr>\n",
       "      <th>1704</th>\n",
       "      <td>19541</td>\n",
       "      <td>2.000000</td>\n",
       "    </tr>\n",
       "    <tr>\n",
       "      <th>1705</th>\n",
       "      <td>26570</td>\n",
       "      <td>3.750000</td>\n",
       "    </tr>\n",
       "    <tr>\n",
       "      <th>1706</th>\n",
       "      <td>26629</td>\n",
       "      <td>3.750000</td>\n",
       "    </tr>\n",
       "    <tr>\n",
       "      <th>1707</th>\n",
       "      <td>26631</td>\n",
       "      <td>3.750000</td>\n",
       "    </tr>\n",
       "  </tbody>\n",
       "</table>\n",
       "<p>1708 rows × 2 columns</p>\n",
       "</div>"
      ],
      "text/plain": [
       "      Num_Reviews     Price\n",
       "0               0  5.264742\n",
       "1               1  3.963636\n",
       "2               2  4.368261\n",
       "3               3  3.332424\n",
       "4               4  3.466905\n",
       "...           ...       ...\n",
       "1703        19540  2.000000\n",
       "1704        19541  2.000000\n",
       "1705        26570  3.750000\n",
       "1706        26629  3.750000\n",
       "1707        26631  3.750000\n",
       "\n",
       "[1708 rows x 2 columns]"
      ]
     },
     "execution_count": 175,
     "metadata": {},
     "output_type": "execute_result"
    }
   ],
   "source": [
    "price_numrev = df.groupby('Num_Reviews')['Price'].mean().reset_index()\n",
    "price_numrev"
   ]
  },
  {
   "cell_type": "code",
   "execution_count": 189,
   "metadata": {},
   "outputs": [
    {
     "data": {
      "image/png": "[encoded data removed]",
      "text/plain": [
       "<Figure size 576x432 with 1 Axes>"
      ]
     },
     "metadata": {
      "needs_background": "light"
     },
     "output_type": "display_data"
    }
   ],
   "source": [
    "figure(figsize=(8, 6))\n",
    "\n",
    "ax = sns.kdeplot(x= price_numrev['Num_Reviews'],y = price_numrev['Price'], shade = True)\n",
    "ax.set_ylim(0,12)\n",
    "ax.set_xlim(-1,20000)\n",
    "\n",
    "plt.show()"
   ]
  },
  {
   "cell_type": "code",
   "execution_count": null,
   "metadata": {},
   "outputs": [],
   "source": []
  }
 ],
 "metadata": {
  "kernelspec": {
   "display_name": "Python 3",
   "language": "python",
   "name": "python3"
  },
  "language_info": {
   "codemirror_mode": {
    "name": "ipython",
    "version": 3
   },
   "file_extension": ".py",
   "mimetype": "text/x-python",
   "name": "python",
   "nbconvert_exporter": "python",
   "pygments_lexer": "ipython3",
   "version": "3.8.5"
  }
 },
 "nbformat": 4,
 "nbformat_minor": 4
}
